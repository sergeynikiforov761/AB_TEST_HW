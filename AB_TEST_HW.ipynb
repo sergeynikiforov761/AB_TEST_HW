{
 "cells": [
  {
   "cell_type": "code",
   "execution_count": 184,
   "metadata": {},
   "outputs": [],
   "source": [
    "import numpy as np\n",
    "import scipy\n",
    "import matplotlib.pyplot as plt\n",
    "import scipy.stats\n",
    "import statsmodels\n",
    "import statsmodels.sandbox.stats.multicomp\n",
    "import pandas as pd\n",
    "import seaborn as sns\n",
    "from sklearn.utils import shuffle"
   ]
  },
  {
   "cell_type": "markdown",
   "metadata": {},
   "source": [
    "## Обработка данных"
   ]
  },
  {
   "cell_type": "markdown",
   "metadata": {},
   "source": [
    "Считаем датасет и выведем основные статистики "
   ]
  },
  {
   "cell_type": "code",
   "execution_count": 185,
   "metadata": {},
   "outputs": [],
   "source": [
    "data = pd.read_csv('data/df_hw.csv', index_col=0)"
   ]
  },
  {
   "cell_type": "code",
   "execution_count": 186,
   "metadata": {},
   "outputs": [
    {
     "data": {
      "text/plain": [
       "array([ 8,  5, 15,  1,  7,  9,  2, 11,  4, 16, 13,  0, 14,  3, 18, 12,  6,\n",
       "       10, 19, 17], dtype=int64)"
      ]
     },
     "execution_count": 186,
     "metadata": {},
     "output_type": "execute_result"
    }
   ],
   "source": [
    "data['day'].unique()"
   ]
  },
  {
   "cell_type": "code",
   "execution_count": 187,
   "metadata": {},
   "outputs": [
    {
     "data": {
      "text/html": [
       "<div>\n",
       "<style scoped>\n",
       "    .dataframe tbody tr th:only-of-type {\n",
       "        vertical-align: middle;\n",
       "    }\n",
       "\n",
       "    .dataframe tbody tr th {\n",
       "        vertical-align: top;\n",
       "    }\n",
       "\n",
       "    .dataframe thead th {\n",
       "        text-align: right;\n",
       "    }\n",
       "</style>\n",
       "<table border=\"1\" class=\"dataframe\">\n",
       "  <thead>\n",
       "    <tr style=\"text-align: right;\">\n",
       "      <th></th>\n",
       "      <th>user_id</th>\n",
       "      <th>metric</th>\n",
       "      <th>day</th>\n",
       "    </tr>\n",
       "  </thead>\n",
       "  <tbody>\n",
       "    <tr>\n",
       "      <th>4768</th>\n",
       "      <td>4768</td>\n",
       "      <td>5210.050500</td>\n",
       "      <td>8</td>\n",
       "    </tr>\n",
       "    <tr>\n",
       "      <th>1928</th>\n",
       "      <td>1928</td>\n",
       "      <td>1617.534800</td>\n",
       "      <td>8</td>\n",
       "    </tr>\n",
       "    <tr>\n",
       "      <th>2995</th>\n",
       "      <td>2995</td>\n",
       "      <td>6742.954000</td>\n",
       "      <td>5</td>\n",
       "    </tr>\n",
       "    <tr>\n",
       "      <th>15885</th>\n",
       "      <td>5885</td>\n",
       "      <td>8998.112105</td>\n",
       "      <td>15</td>\n",
       "    </tr>\n",
       "    <tr>\n",
       "      <th>6121</th>\n",
       "      <td>6121</td>\n",
       "      <td>2281.206200</td>\n",
       "      <td>1</td>\n",
       "    </tr>\n",
       "  </tbody>\n",
       "</table>\n",
       "</div>"
      ],
      "text/plain": [
       "       user_id       metric  day\n",
       "4768      4768  5210.050500    8\n",
       "1928      1928  1617.534800    8\n",
       "2995      2995  6742.954000    5\n",
       "15885     5885  8998.112105   15\n",
       "6121      6121  2281.206200    1"
      ]
     },
     "execution_count": 187,
     "metadata": {},
     "output_type": "execute_result"
    }
   ],
   "source": [
    "data.head()"
   ]
  },
  {
   "cell_type": "code",
   "execution_count": 188,
   "metadata": {},
   "outputs": [
    {
     "data": {
      "text/html": [
       "<div>\n",
       "<style scoped>\n",
       "    .dataframe tbody tr th:only-of-type {\n",
       "        vertical-align: middle;\n",
       "    }\n",
       "\n",
       "    .dataframe tbody tr th {\n",
       "        vertical-align: top;\n",
       "    }\n",
       "\n",
       "    .dataframe thead th {\n",
       "        text-align: right;\n",
       "    }\n",
       "</style>\n",
       "<table border=\"1\" class=\"dataframe\">\n",
       "  <thead>\n",
       "    <tr style=\"text-align: right;\">\n",
       "      <th></th>\n",
       "      <th>user_id</th>\n",
       "      <th>metric</th>\n",
       "      <th>day</th>\n",
       "    </tr>\n",
       "  </thead>\n",
       "  <tbody>\n",
       "    <tr>\n",
       "      <th>count</th>\n",
       "      <td>20000.000000</td>\n",
       "      <td>20000.000000</td>\n",
       "      <td>20000.000000</td>\n",
       "    </tr>\n",
       "    <tr>\n",
       "      <th>mean</th>\n",
       "      <td>4999.500000</td>\n",
       "      <td>5608.495781</td>\n",
       "      <td>9.500000</td>\n",
       "    </tr>\n",
       "    <tr>\n",
       "      <th>std</th>\n",
       "      <td>2886.823503</td>\n",
       "      <td>2694.961977</td>\n",
       "      <td>5.766425</td>\n",
       "    </tr>\n",
       "    <tr>\n",
       "      <th>min</th>\n",
       "      <td>0.000000</td>\n",
       "      <td>1000.208700</td>\n",
       "      <td>0.000000</td>\n",
       "    </tr>\n",
       "    <tr>\n",
       "      <th>25%</th>\n",
       "      <td>2499.750000</td>\n",
       "      <td>3529.527850</td>\n",
       "      <td>4.750000</td>\n",
       "    </tr>\n",
       "    <tr>\n",
       "      <th>50%</th>\n",
       "      <td>4999.500000</td>\n",
       "      <td>5325.799848</td>\n",
       "      <td>9.500000</td>\n",
       "    </tr>\n",
       "    <tr>\n",
       "      <th>75%</th>\n",
       "      <td>7499.250000</td>\n",
       "      <td>7531.320458</td>\n",
       "      <td>14.250000</td>\n",
       "    </tr>\n",
       "    <tr>\n",
       "      <th>max</th>\n",
       "      <td>9999.000000</td>\n",
       "      <td>15645.966244</td>\n",
       "      <td>19.000000</td>\n",
       "    </tr>\n",
       "  </tbody>\n",
       "</table>\n",
       "</div>"
      ],
      "text/plain": [
       "            user_id        metric           day\n",
       "count  20000.000000  20000.000000  20000.000000\n",
       "mean    4999.500000   5608.495781      9.500000\n",
       "std     2886.823503   2694.961977      5.766425\n",
       "min        0.000000   1000.208700      0.000000\n",
       "25%     2499.750000   3529.527850      4.750000\n",
       "50%     4999.500000   5325.799848      9.500000\n",
       "75%     7499.250000   7531.320458     14.250000\n",
       "max     9999.000000  15645.966244     19.000000"
      ]
     },
     "execution_count": 188,
     "metadata": {},
     "output_type": "execute_result"
    }
   ],
   "source": [
    "data.describe()"
   ]
  },
  {
   "cell_type": "markdown",
   "metadata": {},
   "source": [
    "Разобьем данные на 2 группы (первые десять дней, вторые десять дней)"
   ]
  },
  {
   "cell_type": "code",
   "execution_count": 189,
   "metadata": {},
   "outputs": [],
   "source": [
    "data_aa_1 = data[data['day'] <= 9]"
   ]
  },
  {
   "cell_type": "code",
   "execution_count": 190,
   "metadata": {},
   "outputs": [],
   "source": [
    "data_aa_2 = data[data['day'] > 9]"
   ]
  },
  {
   "cell_type": "markdown",
   "metadata": {},
   "source": [
    "Посмотрим на распределение данных"
   ]
  },
  {
   "cell_type": "code",
   "execution_count": 191,
   "metadata": {},
   "outputs": [
    {
     "data": {
      "text/plain": [
       "(array([426., 490., 531., 556., 533., 579., 562., 595., 617., 624., 644.,\n",
       "        662., 634., 628., 361., 212., 179., 139., 112., 102., 114.,  82.,\n",
       "         78.,  78.,  65.,  67.,  67.,  59.,  70.,  40.,  47.,  47.]),\n",
       " array([1000.2087    , 1281.05661563, 1561.90453125, 1842.75244688,\n",
       "        2123.6003625 , 2404.44827813, 2685.29619375, 2966.14410938,\n",
       "        3246.992025  , 3527.83994063, 3808.68785625, 4089.53577188,\n",
       "        4370.3836875 , 4651.23160313, 4932.07951875, 5212.92743438,\n",
       "        5493.77535   , 5774.62326563, 6055.47118125, 6336.31909688,\n",
       "        6617.1670125 , 6898.01492813, 7178.86284375, 7459.71075938,\n",
       "        7740.558675  , 8021.40659063, 8302.25450625, 8583.10242188,\n",
       "        8863.9503375 , 9144.79825312, 9425.64616875, 9706.49408438,\n",
       "        9987.342     ]),\n",
       " <BarContainer object of 32 artists>)"
      ]
     },
     "execution_count": 191,
     "metadata": {},
     "output_type": "execute_result"
    },
    {
     "data": {
      "image/png": "[encoded data removed]",
      "text/plain": [
       "<Figure size 504x504 with 1 Axes>"
      ]
     },
     "metadata": {
      "needs_background": "light"
     },
     "output_type": "display_data"
    }
   ],
   "source": [
    "plt.figure(figsize=(7,7))\n",
    "plt.hist(data_aa_1['metric'], bins = 32, color='red',  linewidth=2)"
   ]
  },
  {
   "cell_type": "code",
   "execution_count": 192,
   "metadata": {},
   "outputs": [
    {
     "data": {
      "text/plain": [
       "(array([  1.,  22.,  24.,  60., 131., 220., 403., 537., 644., 725., 798.,\n",
       "        873., 850., 917., 784., 681., 527., 417., 305., 251., 165., 118.,\n",
       "        113., 109.,  82.,  86.,  66.,  46.,  23.,  14.,   3.,   5.]),\n",
       " array([ 1812.18974488,  2244.49526049,  2676.8007761 ,  3109.10629171,\n",
       "         3541.41180732,  3973.71732293,  4406.02283854,  4838.32835415,\n",
       "         5270.63386976,  5702.93938537,  6135.24490098,  6567.55041659,\n",
       "         6999.8559322 ,  7432.16144781,  7864.46696343,  8296.77247904,\n",
       "         8729.07799465,  9161.38351026,  9593.68902587, 10025.99454148,\n",
       "        10458.30005709, 10890.6055727 , 11322.91108831, 11755.21660392,\n",
       "        12187.52211953, 12619.82763514, 13052.13315075, 13484.43866636,\n",
       "        13916.74418197, 14349.04969759, 14781.3552132 , 15213.66072881,\n",
       "        15645.96624442]),\n",
       " <BarContainer object of 32 artists>)"
      ]
     },
     "execution_count": 192,
     "metadata": {},
     "output_type": "execute_result"
    },
    {
     "data": {
      "image/png": "[encoded data removed]",
      "text/plain": [
       "<Figure size 504x504 with 1 Axes>"
      ]
     },
     "metadata": {
      "needs_background": "light"
     },
     "output_type": "display_data"
    }
   ],
   "source": [
    "plt.figure(figsize=(7,7))\n",
    "plt.hist(data_aa_2['metric'], bins = 32, color='red',  linewidth=2)"
   ]
  },
  {
   "cell_type": "markdown",
   "metadata": {},
   "source": [
    "## A/A и A/B Тест"
   ]
  },
  {
   "cell_type": "markdown",
   "metadata": {},
   "source": [
    "Добавим эффект в 2% за максимально возможное число дней и подберем такую подвыборку, что получим мощность более 80%"
   ]
  },
  {
   "cell_type": "code",
   "execution_count": 193,
   "metadata": {},
   "outputs": [],
   "source": [
    "def generate_group_aa_ab(data_1, data_2, eff_size):\n",
    "    group_len = int(len(data_1) / 2)\n",
    "    group_A_aa_df = data_1.sample(n = group_len)\n",
    "    group_A_aa = group_A_aa_df['metric']\n",
    "    group_A_aa_ind = group_A_aa_df['user_id'].values\n",
    "    group_B_aa = data_1[~data_1['user_id'].isin(group_A_aa_ind)]['metric']\n",
    "    group_A_ab = data_2[data_2['user_id'].isin(group_A_aa_ind)]['metric']\n",
    "    group_B_ab = data_2[~data_2['user_id'].isin(group_A_aa_ind)]['metric'] * (1. + eff_size)\n",
    "    return group_A_aa, group_B_aa, group_A_ab, group_B_ab"
   ]
  },
  {
   "cell_type": "code",
   "execution_count": 194,
   "metadata": {},
   "outputs": [
    {
     "name": "stdout",
     "output_type": "stream",
     "text": [
      "A/A: 0.0515\n",
      "A/B: 0.9397\n"
     ]
    }
   ],
   "source": [
    "p_values_aa = []\n",
    "p_values_ab = []\n",
    "iters = 10000\n",
    "alpha = 0.05\n",
    "eff_size = 0.02\n",
    "for _ in range(iters):\n",
    "    group_A_aa, group_B_aa, group_A_ab, group_B_ab = generate_group_aa_ab(data_aa_1, data_aa_2, eff_size)\n",
    "    #A/A\n",
    "    p = scipy.stats.ttest_ind(group_A_aa, group_B_aa, equal_var=False).pvalue\n",
    "    p_values_aa.append(p)\n",
    "    #A/B\n",
    "    p = scipy.stats.ttest_ind(group_A_ab, group_B_ab, equal_var=False).pvalue\n",
    "    p_values_ab.append(p)\n",
    "p_values_aa = np.array(p_values_aa)\n",
    "p_values_ab = np.array(p_values_ab)\n",
    "print(f\"A/A: {p_values_aa[p_values_aa < alpha].shape[0] / p_values_aa.shape[0]}\")\n",
    "print(f\"A/B: {p_values_ab[p_values_ab < alpha].shape[0] / p_values_ab.shape[0]}\")"
   ]
  },
  {
   "cell_type": "markdown",
   "metadata": {},
   "source": [
    "Отсюда убеждаемся, что мы можем зафиксировать эффект в 2% с вероятностью 80% для максимально возможного числа дней."
   ]
  },
  {
   "cell_type": "code",
   "execution_count": 195,
   "metadata": {},
   "outputs": [
    {
     "data": {
      "text/plain": [
       "(array([ 981., 1015.,  986., 1006., 1010.,  975.,  989., 1011., 1046.,\n",
       "         981.]),\n",
       " array([1.90349021e-05, 1.00012118e-01, 2.00005201e-01, 2.99998285e-01,\n",
       "        3.99991368e-01, 4.99984451e-01, 5.99977534e-01, 6.99970617e-01,\n",
       "        7.99963701e-01, 8.99956784e-01, 9.99949867e-01]),\n",
       " <BarContainer object of 10 artists>)"
      ]
     },
     "execution_count": 195,
     "metadata": {},
     "output_type": "execute_result"
    },
    {
     "data": {
      "image/png": "[encoded data removed]",
      "text/plain": [
       "<Figure size 432x288 with 1 Axes>"
      ]
     },
     "metadata": {
      "needs_background": "light"
     },
     "output_type": "display_data"
    }
   ],
   "source": [
    "plt.hist(p_values_aa)"
   ]
  },
  {
   "cell_type": "code",
   "execution_count": 196,
   "metadata": {},
   "outputs": [
    {
     "data": {
      "text/plain": [
       "(array([9.611e+03, 2.090e+02, 8.400e+01, 3.400e+01, 2.800e+01, 1.200e+01,\n",
       "        8.000e+00, 5.000e+00, 6.000e+00, 3.000e+00]),\n",
       " array([6.67298053e-15, 8.60398903e-02, 1.72079781e-01, 2.58119671e-01,\n",
       "        3.44159561e-01, 4.30199451e-01, 5.16239342e-01, 6.02279232e-01,\n",
       "        6.88319122e-01, 7.74359013e-01, 8.60398903e-01]),\n",
       " <BarContainer object of 10 artists>)"
      ]
     },
     "execution_count": 196,
     "metadata": {},
     "output_type": "execute_result"
    },
    {
     "data": {
      "image/png": "[encoded data removed]",
      "text/plain": [
       "<Figure size 432x288 with 1 Axes>"
      ]
     },
     "metadata": {
      "needs_background": "light"
     },
     "output_type": "display_data"
    }
   ],
   "source": [
    "plt.hist(p_values_ab)"
   ]
  },
  {
   "cell_type": "markdown",
   "metadata": {},
   "source": [
    "Далее найдем минимальное количество дней, при котором вылавливается эффект в 2% с вероятностью 80%"
   ]
  },
  {
   "cell_type": "code",
   "execution_count": 197,
   "metadata": {},
   "outputs": [],
   "source": [
    "def criteria(group_A, group_B, criteria_value='ttest_ind'):\n",
    "    if criteria_value == 'mannwhitneyu':\n",
    "        return scipy.stats.mannwhitneyu(group_A, group_B, alternative='two-sided').pvalue\n",
    "    else:\n",
    "        return scipy.stats.ttest_ind(group_A, group_B, equal_var=False).pvalue\n",
    "        "
   ]
  },
  {
   "cell_type": "markdown",
   "metadata": {},
   "source": [
    "Функция power_by_n_days возвращает power(мощность) и массив p_value для эксперимента длительностью в n_days дней для групп размером group_size из выборки df, с количеством итераций iters, с эффектом eff_size, с уровнем значимости alpha, c критерием criteria_value"
   ]
  },
  {
   "cell_type": "code",
   "execution_count": 201,
   "metadata": {},
   "outputs": [],
   "source": [
    "def generate_group_aa_ab_2(data_1, data_2, eff_size):\n",
    "    group_len = int(len(data_1) / 2)\n",
    "    group_A_aa_df = data_1.sample(n = group_len)\n",
    "    group_A_aa = group_A_aa_df['metric']\n",
    "    group_A_aa_ind = group_A_aa_df['user_id'].values\n",
    "    group_B_aa = data_1[~data_1['user_id'].isin(group_A_aa_ind)]['metric'] * (1. + eff_size)\n",
    "    group_A_ab = data_2[data_2['user_id'].isin(group_A_aa_ind)]['metric']\n",
    "    group_B_ab = data_2[~data_2['user_id'].isin(group_A_aa_ind)]['metric']\n",
    "    return group_A_aa, group_B_aa, group_A_ab, group_B_ab"
   ]
  },
  {
   "cell_type": "code",
   "execution_count": 205,
   "metadata": {},
   "outputs": [],
   "source": [
    "def power_by_n_days(df, df_2, n_days, eff_size=0.02, iters=10000, alpha=0.05, group_size = None, criteria_value='ttest_ind'):\n",
    "    max_days = int(max(df['day'].unique())) + 1\n",
    "    data_start = int(min(df['day'].unique()))\n",
    "    data_end = data_start + n_days - 1\n",
    "    days_iters = max_days - data_start - n_days + 1\n",
    "    p_values_aa = []\n",
    "    p_values_ab = []\n",
    "    power_aa = []\n",
    "    power_ab = []\n",
    "    for i in range(days_iters):\n",
    "        data_current = df[((df['day'] >= (data_start + i)) & (df['day'] <= (data_end + i)))]\n",
    "        if((group_size is None) or (group_size > len(data_current))):\n",
    "            group_size = len(data_current)\n",
    "        p_values_current_aa = []\n",
    "        p_values_current_ab = []\n",
    "        for _ in range(iters):\n",
    "            group_A_ab, group_B_ab, group_A_aa, group_B_aa = generate_group_aa_ab_2(data_current, df_2, eff_size)\n",
    "            # A/A\n",
    "            p_aa = criteria(group_A_aa, group_B_aa, criteria_value)\n",
    "            p_values_current_aa.append(p_aa)\n",
    "            # A/B\n",
    "            p_ab = criteria(group_A_ab, group_B_ab, criteria_value)\n",
    "            p_values_current_ab.append(p_ab)\n",
    "        p_values_current_aa = np.array(p_values_current_aa)\n",
    "        p_values_current_ab = np.array(p_values_current_ab)\n",
    "        p_values_aa.append(p_values_current_aa)\n",
    "        p_values_ab.append(p_values_current_ab)\n",
    "        power_aa.append(p_values_current_aa[p_values_current_aa < alpha].shape[0] / p_values_current_aa.shape[0])\n",
    "        power_ab.append(p_values_current_ab[p_values_current_ab < alpha].shape[0] / p_values_current_ab.shape[0])\n",
    "    return p_values_aa, power_aa, p_values_ab, power_ab"
   ]
  },
  {
   "cell_type": "markdown",
   "metadata": {},
   "source": [
    "Мы запустили функцию для количества дней от 3 до 20 (ресурсоемко). Ниже приведен фрагмент кода для быстрого поиска минимального количества дней."
   ]
  },
  {
   "cell_type": "markdown",
   "metadata": {},
   "source": [
    "Найдем нужное количество дней. Для этого найдем минимальное количество дней, для которого все мощности больше 0.8:"
   ]
  },
  {
   "cell_type": "code",
   "execution_count": 206,
   "metadata": {},
   "outputs": [
    {
     "name": "stdout",
     "output_type": "stream",
     "text": [
      "[0.1237 0.0089 0.0069 0.0598 0.0956 0.0066 0.0424 0.0084 0.0175 0.0101] [0.2076 0.2001 0.1952 0.1912 0.192  0.2036 0.1975 0.1982 0.2306 0.1974]\n",
      "[0.0695 0.0083 0.0447 0.2185 0.0496 0.028  0.0139 0.0099 0.0185] [0.3562 0.3487 0.3405 0.3272 0.3337 0.3573 0.3494 0.3757 0.3719]\n",
      "[0.042  0.0334 0.1658 0.1383 0.0133 0.0164 0.0311 0.0111] [0.4879 0.4757 0.4735 0.4743 0.4747 0.488  0.5243 0.5091]\n",
      "[0.0134 0.1279 0.1335 0.0554 0.0228 0.0299 0.0329] [0.5974 0.5933 0.583  0.5919 0.6005 0.6261 0.6207]\n",
      "[0.0373 0.1126 0.0617 0.0752 0.0148 0.0401] [0.6925 0.6906 0.6872 0.6936 0.7094 0.7052]\n",
      "[0.0341 0.0595 0.0782 0.05   0.0192] [0.7726 0.7628 0.7674 0.7797 0.7791]\n",
      "[0.027  0.0799 0.0609 0.0465] [0.8274 0.8305 0.8385 0.8359]\n",
      "Минимальное количество дней: 7\n"
     ]
    }
   ],
   "source": [
    "min_n_days = 1\n",
    "for j in range(1, 10):\n",
    "    p_values_results_current_aa, power_results_current_aa, p_values_results_current_ab, power_results_current_ab = power_by_n_days(data_aa_2, data_aa_1, j)\n",
    "    power_results_current_aa = np.array(power_results_current_aa)\n",
    "    power_results_current_ab = np.array(power_results_current_ab)\n",
    "    print(power_results_current_aa, power_results_current_ab)\n",
    "    # Проверим, что нет ни одного промежутока,который бы не удовлетворял условию того, что мощность менее 80%\n",
    "    if ((len(power_results_current_ab[power_results_current_ab < 0.8]) == 0) and (len(power_results_current_aa[power_results_current_aa >= 0.8]) == 0)):\n",
    "        min_n_days = j\n",
    "        break\n",
    "print(f\"Минимальное количество дней: {min_n_days}\")"
   ]
  },
  {
   "cell_type": "markdown",
   "metadata": {},
   "source": [
    "## Возможные улучшения для детектирования эффекта в 2% для 3-ех дней"
   ]
  },
  {
   "cell_type": "markdown",
   "metadata": {},
   "source": [
    "Мощность критерия зависит от следующих факторов:\n",
    "1. размер выборки;\n",
    "2. размер отклонения от нулевой гипотезы;\n",
    "3. чувствительность статистики критерия;\n",
    "4. тип альтернативы."
   ]
  },
  {
   "cell_type": "markdown",
   "metadata": {},
   "source": [
    "Для увеличения мощности необходимо увеличить размер выборки (текущей не хватает). При уменьшении размера выборки мощность уменьшается для эффекта в 2%."
   ]
  },
  {
   "cell_type": "markdown",
   "metadata": {},
   "source": [
    "Пункты 2-4 по факту зависят от выбранного критерия"
   ]
  },
  {
   "cell_type": "markdown",
   "metadata": {},
   "source": [
    "Проверим детектируется ли эффект в 2% для критерия Стьюдента и Манна-Уитни в течении 3-ех дней"
   ]
  },
  {
   "cell_type": "code",
   "execution_count": null,
   "metadata": {},
   "outputs": [],
   "source": [
    "p_values_3_aa, power_3_aa, p_values_3_ab, power_3_ab  = power_by_n_days(data_aa_2, data_aa_1, 3)\n",
    "power_3_aa = np.array(power_3_aa)\n",
    "power_3_ab = np.array(power_3_ab)"
   ]
  },
  {
   "cell_type": "code",
   "execution_count": null,
   "metadata": {},
   "outputs": [],
   "source": [
    "# Проверим есть ли хотя бы один промежуток,который удовлетворяет условию того, что мощность менее 80%\n",
    "if(len(power_3_ab[power_3_ab < 0.8]) != 0):\n",
    "    print(\"Есть промежуток, мощность которого менее 80% => при таких условиях не можем задетекить эффект в 2%\")"
   ]
  },
  {
   "cell_type": "markdown",
   "metadata": {},
   "source": [
    "Для критерия Стьюдента (как видим из данных выше) 3-ех дней не хватает для детектирования 2% эффекта (возможно, необходимо просмотреть другие, более мощные критерии)"
   ]
  },
  {
   "cell_type": "code",
   "execution_count": null,
   "metadata": {},
   "outputs": [],
   "source": [
    "p_values_3_aa, power_3_aa, p_values_3_ab, power_3_ab = power_by_n_days(data_aa_2, data_aa_1, 3, criteria_value='mannwhitneyu')\n",
    "power_3_aa = np.array(power_3_aa)\n",
    "power_3_ab = np.array(power_3_ab)"
   ]
  },
  {
   "cell_type": "code",
   "execution_count": null,
   "metadata": {},
   "outputs": [],
   "source": [
    "# Проверим есть ли хотя бы один промежуток,который удовлетворяет условию того, что мощность менее 80%\n",
    "if(len(power_3_ab[power_3_ab < 0.8]) != 0):\n",
    "    print(\"Есть промежуток, мощность которого менее 80% => при таких условиях не можем задетекить эффект в 2%\")"
   ]
  },
  {
   "cell_type": "markdown",
   "metadata": {},
   "source": [
    "Для критерия Манна-Уитни (как видим из данных выше) 3-ех дней не хватает для детектирования 2% эффекта (возможно, необходимо просмотреть другие, более мощные критерии)"
   ]
  }
 ],
 "metadata": {
  "kernelspec": {
   "display_name": "Python 3",
   "language": "python",
   "name": "python3"
  },
  "language_info": {
   "codemirror_mode": {
    "name": "ipython",
    "version": 3
   },
   "file_extension": ".py",
   "mimetype": "text/x-python",
   "name": "python",
   "nbconvert_exporter": "python",
   "pygments_lexer": "ipython3",
   "version": "3.8.5"
  },
  "toc": {
   "base_numbering": 1,
   "nav_menu": {},
   "number_sections": true,
   "sideBar": true,
   "skip_h1_title": false,
   "title_cell": "Table of Contents",
   "title_sidebar": "Contents",
   "toc_cell": false,
   "toc_position": {},
   "toc_section_display": true,
   "toc_window_display": false
  }
 },
 "nbformat": 4,
 "nbformat_minor": 4
}
